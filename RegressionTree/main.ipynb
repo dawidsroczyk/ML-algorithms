{
 "cells": [
  {
   "cell_type": "code",
   "execution_count": 1,
   "metadata": {},
   "outputs": [],
   "source": [
    "import numpy as np\n",
    "import importlib\n",
    "import RegressionTree as rt\n",
    "import pandas as pd\n",
    "from ISLP import load_data\n",
    "import matplotlib.pyplot as plt\n",
    "from sklearn.tree import DecisionTreeClassifier\n",
    "import BoostedRegressionTree as brt"
   ]
  },
  {
   "cell_type": "code",
   "execution_count": 2,
   "metadata": {},
   "outputs": [
    {
     "data": {
      "text/plain": [
       "Index(['AtBat', 'Hits', 'HmRun', 'Runs', 'RBI', 'Walks', 'Years', 'CAtBat',\n",
       "       'CHits', 'CHmRun', 'CRuns', 'CRBI', 'CWalks', 'PutOuts', 'Assists',\n",
       "       'Errors', 'Salary'],\n",
       "      dtype='object')"
      ]
     },
     "execution_count": 2,
     "metadata": {},
     "output_type": "execute_result"
    }
   ],
   "source": [
    "Hitters = load_data('Hitters')\n",
    "Hitters = Hitters.drop(['League', 'Division', 'NewLeague'], axis=1)\n",
    "Hitters = Hitters.dropna()\n",
    "Hitters.columns"
   ]
  },
  {
   "cell_type": "code",
   "execution_count": 147,
   "metadata": {},
   "outputs": [],
   "source": [
    "Hitters = Hitters[['Salary', 'CHits', 'Hits', 'CAtBat']]"
   ]
  },
  {
   "cell_type": "code",
   "execution_count": 3,
   "metadata": {},
   "outputs": [],
   "source": [
    "X = Hitters.drop(labels=['Salary'], axis=1)\n",
    "Y = Hitters['Salary']"
   ]
  },
  {
   "cell_type": "code",
   "execution_count": 4,
   "metadata": {},
   "outputs": [],
   "source": [
    "train_count = int(X.shape[0] * 0.8)\n",
    "X_train, X_test = X.head(train_count), X.tail(X.shape[0] - train_count)\n",
    "Y_train, Y_test = Y.head(train_count), Y.tail(X.shape[0] - train_count)"
   ]
  },
  {
   "cell_type": "code",
   "execution_count": 5,
   "metadata": {},
   "outputs": [],
   "source": [
    "max_samples_leaf = 30\n",
    "max_depth = 20"
   ]
  },
  {
   "cell_type": "markdown",
   "metadata": {},
   "source": [
    "# implemented"
   ]
  },
  {
   "cell_type": "code",
   "execution_count": 15,
   "metadata": {},
   "outputs": [],
   "source": [
    "importlib.reload(rt)\n",
    "regression_tree = rt.RegressionTree(max_samples_leaf = max_samples_leaf, max_depth = max_depth)\n",
    "regression_tree.fit(X_train, Y_train)"
   ]
  },
  {
   "cell_type": "code",
   "execution_count": 16,
   "metadata": {},
   "outputs": [],
   "source": [
    "def print_tree(node: rt.Node, lev: int = 0) -> str:\n",
    "\n",
    "    res = ''\n",
    "\n",
    "    if node is None:\n",
    "        return res\n",
    "\n",
    "    sep = '___ '\n",
    "\n",
    "    if node.compare_function is not None:\n",
    "        res = res + f'{sep * lev}{node.compare_function.label}'\n",
    "        res = res + '\\n' if res[-1] != '\\n' else res\n",
    "\n",
    "        res = res + print_tree(node.right, lev+1)\n",
    "        res = res + '\\n' if res[-1] != '\\n' else res\n",
    "\n",
    "        res = res + f'{sep*lev}else'\n",
    "        res = res + '\\n' if res[-1] != '\\n' else res\n",
    "\n",
    "        res = res + print_tree(node.left, lev+1)\n",
    "        res = res + '\\n' if res[-1] != '\\n' else res\n",
    "\n",
    "    else:\n",
    "        res = res + f'{sep * lev}{round(node.mean, 2)}'\n",
    "        res = res + '\\n' if res[-1] != '\\n' else res\n",
    "    \n",
    "    return res\n",
    "    "
   ]
  },
  {
   "cell_type": "code",
   "execution_count": 17,
   "metadata": {},
   "outputs": [
    {
     "name": "stdout",
     "output_type": "stream",
     "text": [
      "CHits >= 452.5\n",
      "___ Walks >= 53.0\n",
      "___ ___ RBI >= 82.0\n",
      "___ ___ ___ 1398.59\n",
      "___ ___ else\n",
      "___ ___ ___ 858.46\n",
      "___ else\n",
      "___ ___ Hits >= 105.0\n",
      "___ ___ ___ Assists >= 16.0\n",
      "___ ___ ___ ___ 798.37\n",
      "___ ___ ___ else\n",
      "___ ___ ___ ___ 652.88\n",
      "___ ___ else\n",
      "___ ___ ___ CHmRun >= 203.0\n",
      "___ ___ ___ ___ 725.0\n",
      "___ ___ ___ else\n",
      "___ ___ ___ ___ CHmRun >= 194\n",
      "___ ___ ___ ___ ___ 1300.0\n",
      "___ ___ ___ ___ else\n",
      "___ ___ ___ ___ ___ RBI >= 53.0\n",
      "___ ___ ___ ___ ___ ___ 698.33\n",
      "___ ___ ___ ___ ___ else\n",
      "___ ___ ___ ___ ___ ___ HmRun >= 4.5\n",
      "___ ___ ___ ___ ___ ___ ___ 380.94\n",
      "___ ___ ___ ___ ___ ___ else\n",
      "___ ___ ___ ___ ___ ___ ___ 542.6\n",
      "else\n",
      "___ AtBat >= 126.5\n",
      "___ ___ CRBI >= 118.0\n",
      "___ ___ ___ 349.02\n",
      "___ ___ else\n",
      "___ ___ ___ CRuns >= 102.0\n",
      "___ ___ ___ ___ 217.86\n",
      "___ ___ ___ else\n",
      "___ ___ ___ ___ CRBI >= 73.5\n",
      "___ ___ ___ ___ ___ 149.89\n",
      "___ ___ ___ ___ else\n",
      "___ ___ ___ ___ ___ AtBat >= 453\n",
      "___ ___ ___ ___ ___ ___ 195.0\n",
      "___ ___ ___ ___ ___ else\n",
      "___ ___ ___ ___ ___ ___ CAtBat >= 343.0\n",
      "___ ___ ___ ___ ___ ___ ___ 106.0\n",
      "___ ___ ___ ___ ___ ___ else\n",
      "___ ___ ___ ___ ___ ___ ___ 80.75\n",
      "___ else\n",
      "___ ___ 1158.67\n",
      "\n"
     ]
    }
   ],
   "source": [
    "print(print_tree(regression_tree.root))"
   ]
  },
  {
   "cell_type": "code",
   "execution_count": 18,
   "metadata": {},
   "outputs": [],
   "source": [
    "Y_test_pred = regression_tree.pred(X_test.to_numpy())"
   ]
  },
  {
   "cell_type": "code",
   "execution_count": 19,
   "metadata": {},
   "outputs": [
    {
     "data": {
      "text/plain": [
       "156.77944835373972"
      ]
     },
     "execution_count": 19,
     "metadata": {},
     "output_type": "execute_result"
    }
   ],
   "source": [
    "np.mean(np.abs(Y_test - Y_test_pred))"
   ]
  },
  {
   "cell_type": "markdown",
   "metadata": {},
   "source": [
    "# library"
   ]
  },
  {
   "cell_type": "code",
   "execution_count": 112,
   "metadata": {},
   "outputs": [
    {
     "data": {
      "text/html": [
       "<style>#sk-container-id-7 {color: black;}#sk-container-id-7 pre{padding: 0;}#sk-container-id-7 div.sk-toggleable {background-color: white;}#sk-container-id-7 label.sk-toggleable__label {cursor: pointer;display: block;width: 100%;margin-bottom: 0;padding: 0.3em;box-sizing: border-box;text-align: center;}#sk-container-id-7 label.sk-toggleable__label-arrow:before {content: \"▸\";float: left;margin-right: 0.25em;color: #696969;}#sk-container-id-7 label.sk-toggleable__label-arrow:hover:before {color: black;}#sk-container-id-7 div.sk-estimator:hover label.sk-toggleable__label-arrow:before {color: black;}#sk-container-id-7 div.sk-toggleable__content {max-height: 0;max-width: 0;overflow: hidden;text-align: left;background-color: #f0f8ff;}#sk-container-id-7 div.sk-toggleable__content pre {margin: 0.2em;color: black;border-radius: 0.25em;background-color: #f0f8ff;}#sk-container-id-7 input.sk-toggleable__control:checked~div.sk-toggleable__content {max-height: 200px;max-width: 100%;overflow: auto;}#sk-container-id-7 input.sk-toggleable__control:checked~label.sk-toggleable__label-arrow:before {content: \"▾\";}#sk-container-id-7 div.sk-estimator input.sk-toggleable__control:checked~label.sk-toggleable__label {background-color: #d4ebff;}#sk-container-id-7 div.sk-label input.sk-toggleable__control:checked~label.sk-toggleable__label {background-color: #d4ebff;}#sk-container-id-7 input.sk-hidden--visually {border: 0;clip: rect(1px 1px 1px 1px);clip: rect(1px, 1px, 1px, 1px);height: 1px;margin: -1px;overflow: hidden;padding: 0;position: absolute;width: 1px;}#sk-container-id-7 div.sk-estimator {font-family: monospace;background-color: #f0f8ff;border: 1px dotted black;border-radius: 0.25em;box-sizing: border-box;margin-bottom: 0.5em;}#sk-container-id-7 div.sk-estimator:hover {background-color: #d4ebff;}#sk-container-id-7 div.sk-parallel-item::after {content: \"\";width: 100%;border-bottom: 1px solid gray;flex-grow: 1;}#sk-container-id-7 div.sk-label:hover label.sk-toggleable__label {background-color: #d4ebff;}#sk-container-id-7 div.sk-serial::before {content: \"\";position: absolute;border-left: 1px solid gray;box-sizing: border-box;top: 0;bottom: 0;left: 50%;z-index: 0;}#sk-container-id-7 div.sk-serial {display: flex;flex-direction: column;align-items: center;background-color: white;padding-right: 0.2em;padding-left: 0.2em;position: relative;}#sk-container-id-7 div.sk-item {position: relative;z-index: 1;}#sk-container-id-7 div.sk-parallel {display: flex;align-items: stretch;justify-content: center;background-color: white;position: relative;}#sk-container-id-7 div.sk-item::before, #sk-container-id-7 div.sk-parallel-item::before {content: \"\";position: absolute;border-left: 1px solid gray;box-sizing: border-box;top: 0;bottom: 0;left: 50%;z-index: -1;}#sk-container-id-7 div.sk-parallel-item {display: flex;flex-direction: column;z-index: 1;position: relative;background-color: white;}#sk-container-id-7 div.sk-parallel-item:first-child::after {align-self: flex-end;width: 50%;}#sk-container-id-7 div.sk-parallel-item:last-child::after {align-self: flex-start;width: 50%;}#sk-container-id-7 div.sk-parallel-item:only-child::after {width: 0;}#sk-container-id-7 div.sk-dashed-wrapped {border: 1px dashed gray;margin: 0 0.4em 0.5em 0.4em;box-sizing: border-box;padding-bottom: 0.4em;background-color: white;}#sk-container-id-7 div.sk-label label {font-family: monospace;font-weight: bold;display: inline-block;line-height: 1.2em;}#sk-container-id-7 div.sk-label-container {text-align: center;}#sk-container-id-7 div.sk-container {/* jupyter's `normalize.less` sets `[hidden] { display: none; }` but bootstrap.min.css set `[hidden] { display: none !important; }` so we also need the `!important` here to be able to override the default hidden behavior on the sphinx rendered scikit-learn.org. See: https://github.com/scikit-learn/scikit-learn/issues/21755 */display: inline-block !important;position: relative;}#sk-container-id-7 div.sk-text-repr-fallback {display: none;}</style><div id=\"sk-container-id-7\" class=\"sk-top-container\"><div class=\"sk-text-repr-fallback\"><pre>DecisionTreeClassifier()</pre><b>In a Jupyter environment, please rerun this cell to show the HTML representation or trust the notebook. <br />On GitHub, the HTML representation is unable to render, please try loading this page with nbviewer.org.</b></div><div class=\"sk-container\" hidden><div class=\"sk-item\"><div class=\"sk-estimator sk-toggleable\"><input class=\"sk-toggleable__control sk-hidden--visually\" id=\"sk-estimator-id-7\" type=\"checkbox\" checked><label for=\"sk-estimator-id-7\" class=\"sk-toggleable__label sk-toggleable__label-arrow\">DecisionTreeClassifier</label><div class=\"sk-toggleable__content\"><pre>DecisionTreeClassifier()</pre></div></div></div></div></div>"
      ],
      "text/plain": [
       "DecisionTreeClassifier()"
      ]
     },
     "execution_count": 112,
     "metadata": {},
     "output_type": "execute_result"
    }
   ],
   "source": [
    "library_tree = DecisionTreeClassifier()\n",
    "library_tree.fit(X_train.to_numpy(), Y_train.to_numpy().astype(np.uint32))"
   ]
  },
  {
   "cell_type": "code",
   "execution_count": 113,
   "metadata": {},
   "outputs": [],
   "source": [
    "Y_library = library_tree.predict(X_test.to_numpy())"
   ]
  },
  {
   "cell_type": "code",
   "execution_count": 114,
   "metadata": {},
   "outputs": [
    {
     "data": {
      "text/plain": [
       "253.59747169811322"
      ]
     },
     "execution_count": 114,
     "metadata": {},
     "output_type": "execute_result"
    }
   ],
   "source": [
    "np.mean(np.abs(Y_test - Y_library))"
   ]
  },
  {
   "cell_type": "markdown",
   "metadata": {},
   "source": [
    "# Simple test"
   ]
  },
  {
   "cell_type": "code",
   "execution_count": 27,
   "metadata": {},
   "outputs": [],
   "source": [
    "X_simple = pd.DataFrame(np.array([1, 2, 3, 4, 5, 6, 7, 8, 9]).reshape((9, 1)))\n",
    "Y_simple = pd.Series([10, 10, 10, 10, 20, 20, -5, -5, -5])"
   ]
  },
  {
   "cell_type": "code",
   "execution_count": 28,
   "metadata": {},
   "outputs": [
    {
     "data": {
      "text/plain": [
       "0    10\n",
       "1    10\n",
       "2    10\n",
       "3    10\n",
       "4    20\n",
       "5    20\n",
       "6    -5\n",
       "7    -5\n",
       "8    -5\n",
       "dtype: int64"
      ]
     },
     "execution_count": 28,
     "metadata": {},
     "output_type": "execute_result"
    }
   ],
   "source": [
    "Y_simple"
   ]
  },
  {
   "cell_type": "code",
   "execution_count": 47,
   "metadata": {},
   "outputs": [],
   "source": [
    "importlib.reload(rt)\n",
    "simple_tree = rt.RegressionTree(3, 3)\n",
    "simple_tree.fit(X_simple, Y_simple)"
   ]
  },
  {
   "cell_type": "code",
   "execution_count": 48,
   "metadata": {},
   "outputs": [
    {
     "name": "stdout",
     "output_type": "stream",
     "text": [
      "0 >= 7.5\n",
      "___ -5.0\n",
      "else\n",
      "___ 0 >= 7\n",
      "___ ___ -5.0\n",
      "___ else\n",
      "___ ___ 0 >= 5.5\n",
      "___ ___ ___ 20.0\n",
      "___ ___ else\n",
      "___ ___ ___ 0 >= 5\n",
      "___ ___ ___ ___ 20.0\n",
      "___ ___ ___ else\n",
      "___ ___ ___ ___ 10.0\n",
      "\n"
     ]
    }
   ],
   "source": [
    "print(print_tree(simple_tree.root))"
   ]
  },
  {
   "cell_type": "code",
   "execution_count": 49,
   "metadata": {},
   "outputs": [
    {
     "name": "stdout",
     "output_type": "stream",
     "text": [
      "[10. 10. 10. 10. 20. 20. -5. -5. -5.]\n",
      "[10. 10. 10. 10. 20. 20. -5. -5. -5.]\n"
     ]
    }
   ],
   "source": [
    "Y_simple_pred = simple_tree.pred(X_simple.to_numpy())\n",
    "print(Y_simple_pred)\n",
    "print(Y_simple.to_numpy().astype(np.double))"
   ]
  },
  {
   "cell_type": "code",
   "execution_count": 89,
   "metadata": {},
   "outputs": [
    {
     "data": {
      "text/plain": [
       "(9,)"
      ]
     },
     "execution_count": 89,
     "metadata": {},
     "output_type": "execute_result"
    }
   ],
   "source": [
    "Y_simple_pred.shape"
   ]
  },
  {
   "cell_type": "markdown",
   "metadata": {},
   "source": [
    "# Boosting implemented"
   ]
  },
  {
   "cell_type": "code",
   "execution_count": 167,
   "metadata": {},
   "outputs": [],
   "source": [
    "importlib.reload(brt)\n",
    "boosted_tree = brt.BoostedRegressionTree(n_estimators=100, max_depth=10, max_samples_leaf=25)\n",
    "boosted_tree.fit(X_train, Y_train)"
   ]
  },
  {
   "cell_type": "code",
   "execution_count": 168,
   "metadata": {},
   "outputs": [],
   "source": [
    "Y_boosted_pred = boosted_tree.pred(X_test)"
   ]
  },
  {
   "cell_type": "code",
   "execution_count": 169,
   "metadata": {},
   "outputs": [
    {
     "data": {
      "text/plain": [
       "217.090305634529"
      ]
     },
     "execution_count": 169,
     "metadata": {},
     "output_type": "execute_result"
    }
   ],
   "source": [
    "np.mean(np.abs(Y_test - Y_boosted_pred))"
   ]
  },
  {
   "cell_type": "code",
   "execution_count": 170,
   "metadata": {},
   "outputs": [
    {
     "data": {
      "text/plain": [
       "105.18912641661763"
      ]
     },
     "execution_count": 170,
     "metadata": {},
     "output_type": "execute_result"
    }
   ],
   "source": [
    "np.mean(np.abs(Y_train - boosted_tree.pred(X_train)))"
   ]
  },
  {
   "cell_type": "markdown",
   "metadata": {},
   "source": [
    "# Distribution of derivatives after one iteration"
   ]
  },
  {
   "cell_type": "code",
   "execution_count": 22,
   "metadata": {},
   "outputs": [
    {
     "data": {
      "image/png": "[encoded data removed]",
      "text/plain": [
       "<Figure size 640x480 with 1 Axes>"
      ]
     },
     "metadata": {},
     "output_type": "display_data"
    }
   ],
   "source": [
    "plt.hist(r_i, bins=100)\n",
    "plt.show()"
   ]
  }
 ],
 "metadata": {
  "kernelspec": {
   "display_name": "linReg",
   "language": "python",
   "name": "python3"
  },
  "language_info": {
   "codemirror_mode": {
    "name": "ipython",
    "version": 3
   },
   "file_extension": ".py",
   "mimetype": "text/x-python",
   "name": "python",
   "nbconvert_exporter": "python",
   "pygments_lexer": "ipython3",
   "version": "3.11.4"
  }
 },
 "nbformat": 4,
 "nbformat_minor": 2
}
